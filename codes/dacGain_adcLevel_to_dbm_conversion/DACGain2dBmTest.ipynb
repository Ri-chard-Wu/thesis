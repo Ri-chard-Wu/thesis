{
 "cells": [
  {
   "cell_type": "markdown",
   "id": "77798740-1dae-4232-9dbf-3310ef401ed3",
   "metadata": {},
   "source": [
    "# load bitstream"
   ]
  },
  {
   "cell_type": "code",
   "execution_count": 1,
   "id": "d4b225d5-c141-416c-8acd-c00620f82f29",
   "metadata": {},
   "outputs": [
    {
     "name": "stdout",
     "output_type": "stream",
     "text": [
      "Load qick_lib to the environment.\n",
      "Load sqckit to the environment.\n",
      "Load labber_api to the environment.\n"
     ]
    },
    {
     "data": {
      "application/javascript": "\ntry {\nrequire(['notebook/js/codecell'], function(codecell) {\n  codecell.CodeCell.options_default.highlight_modes[\n      'magic_text/x-csrc'] = {'reg':[/^%%microblaze/]};\n  Jupyter.notebook.events.one('kernel_ready.Kernel', function(){\n      Jupyter.notebook.get_cells().map(function(cell){\n          if (cell.cell_type == 'code'){ cell.auto_highlight(); } }) ;\n  });\n});\n} catch (e) {};\n"
     },
     "metadata": {},
     "output_type": "display_data"
    },
    {
     "data": {
      "application/javascript": "\ntry {\nrequire(['notebook/js/codecell'], function(codecell) {\n  codecell.CodeCell.options_default.highlight_modes[\n      'magic_text/x-csrc'] = {'reg':[/^%%pybind11/]};\n  Jupyter.notebook.events.one('kernel_ready.Kernel', function(){\n      Jupyter.notebook.get_cells().map(function(cell){\n          if (cell.cell_type == 'code'){ cell.auto_highlight(); } }) ;\n  });\n});\n} catch (e) {};\n"
     },
     "metadata": {},
     "output_type": "display_data"
    },
    {
     "name": "stdout",
     "output_type": "stream",
     "text": [
      "resetting clocks: 245.76 491.52\n",
      "\n",
      "QICK configuration:\n",
      "\n",
      "\tBoard: ZCU216\n",
      "\n",
      "\tSoftware version: 0.2.220\n",
      "\tFirmware timestamp: Mon Jan 15 21:47:46 2024\n",
      "\n",
      "\tGlobal clocks (MHz): tProcessor 430.080, RF reference 245.760\n",
      "\n",
      "\t7 signal generator channels:\n",
      "\t0:\taxis_signal_gen_v6 - envelope memory 65536 samples (9.524 us)\n",
      "\t\tfs=6881.280 MHz, fabric=430.080 MHz, 32-bit DDS, range=6881.280 MHz\n",
      "\t\tDAC tile 2, blk 0 is 0_230, on JHC3\n",
      "\t1:\taxis_signal_gen_v6 - envelope memory 65536 samples (9.524 us)\n",
      "\t\tfs=6881.280 MHz, fabric=430.080 MHz, 32-bit DDS, range=6881.280 MHz\n",
      "\t\tDAC tile 2, blk 1 is 1_230, on JHC4\n",
      "\t2:\taxis_signal_gen_v6 - envelope memory 65536 samples (9.524 us)\n",
      "\t\tfs=6881.280 MHz, fabric=430.080 MHz, 32-bit DDS, range=6881.280 MHz\n",
      "\t\tDAC tile 2, blk 2 is 2_230, on JHC3\n",
      "\t3:\taxis_signal_gen_v6 - envelope memory 65536 samples (9.524 us)\n",
      "\t\tfs=6881.280 MHz, fabric=430.080 MHz, 32-bit DDS, range=6881.280 MHz\n",
      "\t\tDAC tile 2, blk 3 is 3_230, on JHC4\n",
      "\t4:\taxis_signal_gen_v6 - envelope memory 65536 samples (9.524 us)\n",
      "\t\tfs=6881.280 MHz, fabric=430.080 MHz, 32-bit DDS, range=6881.280 MHz\n",
      "\t\tDAC tile 3, blk 0 is 0_231, on JHC3\n",
      "\t5:\taxis_signal_gen_v6 - envelope memory 65536 samples (9.524 us)\n",
      "\t\tfs=6881.280 MHz, fabric=430.080 MHz, 32-bit DDS, range=6881.280 MHz\n",
      "\t\tDAC tile 3, blk 1 is 1_231, on JHC4\n",
      "\t6:\taxis_signal_gen_v6 - envelope memory 65536 samples (9.524 us)\n",
      "\t\tfs=6881.280 MHz, fabric=430.080 MHz, 32-bit DDS, range=6881.280 MHz\n",
      "\t\tDAC tile 3, blk 2 is 2_231, on JHC3\n",
      "\n",
      "\t8 readout channels:\n",
      "\t0:\taxis_pfb_readout_v2 - controlled by PYNQ\n",
      "\t\tfs=2457.600 MHz, fabric=307.200 MHz, 32-bit DDS, range=307.200 MHz\n",
      "\t\tmaxlen 16384 accumulated, 1024 decimated (3.333 us)\n",
      "\t\ttriggered by output 0, pin 8, feedback to tProc input 0\n",
      "\t\tADC tile 2, blk 0 is 0_226, on JHC7\n",
      "\t1:\taxis_pfb_readout_v2 - controlled by PYNQ\n",
      "\t\tfs=2457.600 MHz, fabric=307.200 MHz, 32-bit DDS, range=307.200 MHz\n",
      "\t\tmaxlen 16384 accumulated, 1024 decimated (3.333 us)\n",
      "\t\ttriggered by output 0, pin 9, feedback to tProc input -1\n",
      "\t\tADC tile 2, blk 0 is 0_226, on JHC7\n",
      "\t2:\taxis_pfb_readout_v2 - controlled by PYNQ\n",
      "\t\tfs=2457.600 MHz, fabric=307.200 MHz, 32-bit DDS, range=307.200 MHz\n",
      "\t\tmaxlen 16384 accumulated, 1024 decimated (3.333 us)\n",
      "\t\ttriggered by output 0, pin 10, feedback to tProc input -1\n",
      "\t\tADC tile 2, blk 0 is 0_226, on JHC7\n",
      "\t3:\taxis_pfb_readout_v2 - controlled by PYNQ\n",
      "\t\tfs=2457.600 MHz, fabric=307.200 MHz, 32-bit DDS, range=307.200 MHz\n",
      "\t\tmaxlen 16384 accumulated, 1024 decimated (3.333 us)\n",
      "\t\ttriggered by output 0, pin 11, feedback to tProc input -1\n",
      "\t\tADC tile 2, blk 0 is 0_226, on JHC7\n",
      "\t4:\taxis_pfb_readout_v2 - controlled by PYNQ\n",
      "\t\tfs=2457.600 MHz, fabric=307.200 MHz, 32-bit DDS, range=307.200 MHz\n",
      "\t\tmaxlen 16384 accumulated, 1024 decimated (3.333 us)\n",
      "\t\ttriggered by output 0, pin 12, feedback to tProc input 1\n",
      "\t\tADC tile 2, blk 2 is 2_226, on JHC7\n",
      "\t5:\taxis_pfb_readout_v2 - controlled by PYNQ\n",
      "\t\tfs=2457.600 MHz, fabric=307.200 MHz, 32-bit DDS, range=307.200 MHz\n",
      "\t\tmaxlen 16384 accumulated, 1024 decimated (3.333 us)\n",
      "\t\ttriggered by output 0, pin 13, feedback to tProc input -1\n",
      "\t\tADC tile 2, blk 2 is 2_226, on JHC7\n",
      "\t6:\taxis_pfb_readout_v2 - controlled by PYNQ\n",
      "\t\tfs=2457.600 MHz, fabric=307.200 MHz, 32-bit DDS, range=307.200 MHz\n",
      "\t\tmaxlen 16384 accumulated, 1024 decimated (3.333 us)\n",
      "\t\ttriggered by output 0, pin 14, feedback to tProc input -1\n",
      "\t\tADC tile 2, blk 2 is 2_226, on JHC7\n",
      "\t7:\taxis_pfb_readout_v2 - controlled by PYNQ\n",
      "\t\tfs=2457.600 MHz, fabric=307.200 MHz, 32-bit DDS, range=307.200 MHz\n",
      "\t\tmaxlen 16384 accumulated, 1024 decimated (3.333 us)\n",
      "\t\ttriggered by output 0, pin 15, feedback to tProc input -1\n",
      "\t\tADC tile 2, blk 2 is 2_226, on JHC7\n",
      "\n",
      "\t8 digital output pins:\n",
      "\t0:\tPMOD0_0_LS\n",
      "\t1:\tPMOD0_1_LS\n",
      "\t2:\tPMOD0_2_LS\n",
      "\t3:\tPMOD0_3_LS\n",
      "\t4:\tPMOD0_4_LS\n",
      "\t5:\tPMOD0_5_LS\n",
      "\t6:\tPMOD0_6_LS\n",
      "\t7:\tPMOD0_7_LS\n",
      "\n",
      "\ttProc axis_tproc64x32_x8: program memory 8192 words, data memory 4096 words\n",
      "\t\texternal start pin: PMOD1_0_LS\n"
     ]
    }
   ],
   "source": [
    "import sys\n",
    "import json\n",
    "import requests\n",
    "import numpy as np                                                                                         \n",
    "import matplotlib.pyplot as plt\n",
    "import pickle\n",
    "\n",
    "from ipywidgets import interact, fixed\n",
    "import ipywidgets as widgets\n",
    "from IPython.display import Image, display\n",
    "\n",
    "from time import sleep\n",
    "from tqdm import tqdm\n",
    "from attrdict import AttrDict\n",
    "from datetime import date\n",
    "\n",
    "sqclib = '/home/xilinx/jupyter_notebooks/nthu/Library'\n",
    "sys.path.append(sqclib)\n",
    "from sqckit.labber_toolv2 import InstrManager, hdf5_generator\n",
    "\n",
    "qick_path = '/home/xilinx/jupyter_notebooks/nthu/Library/qick_lib'\n",
    "sys.path.append(qick_path)\n",
    "from qick import *\n",
    "\n",
    "\n",
    "bitfile_path = '/home/xilinx/jupyter_notebooks/nthu/sinica-5q/top_216-pfb2.bit'\n",
    "soc = QickSoc(bitfile = bitfile_path, external_clk = True)\n",
    "port_map = {'0_230':0, '1_230':1, '2_230':2, '3_230':3,\n",
    "                '0_231':4, '1_231':5, '2_231':6}\n",
    " \n",
    "\n",
    "\n",
    "soccfg = soc\n",
    "print(soc)"
   ]
  },
  {
   "cell_type": "markdown",
   "id": "b5ac01ba-d065-4b50-9212-6ee41400bca7",
   "metadata": {},
   "source": [
    "# Build DAC gain to power table"
   ]
  },
  {
   "cell_type": "markdown",
   "id": "2b727213-d010-47b1-8ec3-9312b5aa48e6",
   "metadata": {},
   "source": [
    "## setup"
   ]
  },
  {
   "cell_type": "code",
   "execution_count": 2,
   "id": "07817ef2-11a3-4c27-94bd-2e8acbf31ca4",
   "metadata": {},
   "outputs": [
    {
     "data": {
      "application/vnd.jupyter.widget-view+json": {
       "model_id": "6ac9e9ea992044e79fb7055fa9f141e7",
       "version_major": 2,
       "version_minor": 0
      },
      "text/plain": [
       "  0%|          | 0/100 [00:00<?, ?it/s]"
      ]
     },
     "metadata": {},
     "output_type": "display_data"
    },
    {
     "data": {
      "image/png": "[encoded data removed]",
      "text/plain": [
       "<Figure size 432x288 with 1 Axes>"
      ]
     },
     "metadata": {
      "needs_background": "light"
     },
     "output_type": "display_data"
    }
   ],
   "source": [
    "class LoopbackProgram(AveragerProgram):\n",
    "    def initialize(self):\n",
    "        cfg=self.cfg   \n",
    "        res_ch = cfg[\"res_ch\"]\n",
    "\n",
    "        # set the nyquist zone\n",
    "        self.declare_gen(ch=cfg[\"res_ch\"], nqz=1)\n",
    "        \n",
    "        # configure the readout lengths and downconversion frequencies (ensuring it is an available DAC frequency)\n",
    "        for ch in cfg[\"ro_chs\"]:\n",
    "            self.declare_readout(ch=ch, length=self.cfg[\"readout_length\"],\n",
    "                                 freq=self.cfg[\"pulse_freq\"], gen_ch=cfg[\"res_ch\"])\n",
    "\n",
    "        # convert frequency to DAC frequency (ensuring it is an available ADC frequency)\n",
    "        freq = self.freq2reg(cfg[\"pulse_freq\"],gen_ch=res_ch, ro_ch=cfg[\"ro_chs\"][0])\n",
    "        phase = self.deg2reg(cfg[\"res_phase\"], gen_ch=res_ch)\n",
    "        gain = cfg[\"pulse_gain\"]\n",
    "        self.default_pulse_registers(ch=res_ch, freq=freq, phase=phase, gain=gain)\n",
    "\n",
    "        style=self.cfg[\"pulse_style\"]\n",
    "\n",
    "        if style in [\"flat_top\",\"arb\"]:\n",
    "            sigma = cfg[\"sigma\"]\n",
    "            self.add_gauss(ch=res_ch, name=\"measure\", sigma=sigma, length=sigma*5)\n",
    "            \n",
    "        if style == \"const\":\n",
    "            self.set_pulse_registers(ch=res_ch, style=style, length=cfg[\"length\"])\n",
    "        elif style == \"flat_top\":\n",
    "            # The first half of the waveform ramps up the pulse, the second half ramps down the pulse\n",
    "            self.set_pulse_registers(ch=res_ch, style=style, waveform=\"measure\", length=cfg[\"length\"])\n",
    "        elif style == \"arb\":\n",
    "            self.set_pulse_registers(ch=res_ch, style=style, waveform=\"measure\")\n",
    "        \n",
    "        self.synci(200)  # give processor some time to configure pulses\n",
    "    \n",
    "    def body(self):\n",
    "\n",
    "        \n",
    "        self.measure(pulse_ch=self.cfg[\"res_ch\"], \n",
    "                     adcs=self.ro_chs,\n",
    "                     pins=[0], \n",
    "                     adc_trig_offset=self.cfg[\"adc_trig_offset\"],\n",
    "                     wait=True,\n",
    "                     syncdelay=self.us2cycles(self.cfg[\"relax_delay\"]))\n",
    "        \n",
    "        \n",
    "        \n",
    "        \n",
    "config={\"res_ch\":6, # --Fixed\n",
    "        \"ro_chs\":[4], # --Fixed\n",
    "        \"reps\":1, # --Fixed\n",
    "        \"relax_delay\":1.0, # --us\n",
    "        \"res_phase\":0, # --degrees\n",
    "        \"pulse_style\": \"const\", # --Fixed\n",
    "        \n",
    "        \"length\":200, # [Clock ticks]\n",
    "        # Try varying length from 10-100 clock ticks\n",
    "        \n",
    "        \"readout_length\":100, # [Clock ticks]\n",
    "        # Try varying readout_length from 50-1000 clock ticks\n",
    "\n",
    "        \"pulse_gain\":3000, # [DAC units]\n",
    "        # Try varying pulse_gain from 500 to 30000 DAC units\n",
    "\n",
    "        \"pulse_freq\": 250, # [MHz]\n",
    "        # In this program the signal is up and downconverted digitally so you won't see any frequency\n",
    "        # components in the I/Q traces below. But since the signal gain depends on frequency, \n",
    "        # if you lower pulse_freq you will see an increased gain.\n",
    "\n",
    "        \"adc_trig_offset\": 150, # [Clock ticks]\n",
    "        # Try varying adc_trig_offset from 100 to 220 clock ticks\n",
    "\n",
    "        \"soft_avgs\":100\n",
    "        # Try varying soft_avgs from 1 to 200 averages\n",
    "\n",
    "       }\n",
    "\n",
    " \n",
    "    \n",
    "prog =LoopbackProgram(soccfg, config)\n",
    "iq_list = prog.acquire_decimated(soc, progress=True)\n",
    "\n",
    "\n",
    "plt.figure(1)\n",
    "for ii, iq in enumerate(iq_list):\n",
    "    plt.plot(iq[0], label=\"I value, ADC %d\"%(config['ro_chs'][ii]))\n",
    "    plt.plot(iq[1], label=\"Q value, ADC %d\"%(config['ro_chs'][ii]))\n",
    "    plt.plot(np.abs(iq[0]+1j*iq[1]), label=\"mag, ADC %d\"%(config['ro_chs'][ii]))\n",
    "    \n",
    "plt.ylabel(\"a.u.\")\n",
    "plt.xlabel(\"Clock ticks\")\n",
    "plt.title(\"Averages = \" + str(config[\"soft_avgs\"]))\n",
    "plt.legend();        "
   ]
  },
  {
   "cell_type": "code",
   "execution_count": 80,
   "id": "e6704954-ecf2-4ba8-88ff-e892e455c192",
   "metadata": {},
   "outputs": [
    {
     "data": {
      "application/vnd.jupyter.widget-view+json": {
       "model_id": "bf20fb85641b4fc8bf94a5f49597f29c",
       "version_major": 2,
       "version_minor": 0
      },
      "text/plain": [
       "  0%|          | 0/100 [00:00<?, ?it/s]"
      ]
     },
     "metadata": {},
     "output_type": "display_data"
    },
    {
     "data": {
      "text/plain": [
       "3005.755154356065"
      ]
     },
     "execution_count": 80,
     "metadata": {},
     "output_type": "execute_result"
    }
   ],
   "source": [
    "    \n",
    "prog =LoopbackProgram(soccfg, config)\n",
    "avgi, avgq = prog.acquire(soc, progress=True)\n",
    "\n",
    "np.abs(avgi[0][0] + 1j*avgq[0][0])"
   ]
  },
  {
   "cell_type": "markdown",
   "id": "b9f37665-9017-42ff-9345-963d1b59a6c5",
   "metadata": {},
   "source": [
    "## generate table"
   ]
  },
  {
   "cell_type": "code",
   "execution_count": 5,
   "id": "c99d166a-bea2-4a1a-93ad-9746b03422b9",
   "metadata": {},
   "outputs": [
    {
     "name": "stderr",
     "output_type": "stream",
     "text": [
      "  0%|          | 0/180 [00:00<?, ?it/s]"
     ]
    },
    {
     "name": "stdout",
     "output_type": "stream",
     "text": [
      "clearing streamer buffer\n",
      "buffer cleared\n"
     ]
    },
    {
     "name": "stderr",
     "output_type": "stream",
     "text": [
      "100%|██████████| 180/180 [00:29<00:00,  6.08it/s]\n"
     ]
    },
    {
     "data": {
      "text/plain": [
       "(180, 30)"
      ]
     },
     "execution_count": 5,
     "metadata": {},
     "output_type": "execute_result"
    }
   ],
   "source": [
    " \n",
    "config={\"res_ch\":6, # --Fixed\n",
    "        \"ro_chs\":[4], # --Fixed\n",
    "        \"reps\":100, # --Fixed\n",
    "        \"relax_delay\":1.0, # --us\n",
    "        \"res_phase\":0, # --degrees\n",
    "        \"pulse_style\": \"const\", # --Fixed\n",
    "        \n",
    "        \"length\":200, # [Clock ticks]\n",
    "        # Try varying length from 10-100 clock ticks\n",
    "        \n",
    "        \"readout_length\":100, # [Clock ticks]\n",
    "        # Try varying readout_length from 50-1000 clock ticks\n",
    "\n",
    "        \"pulse_gain\":3000, # [DAC units]\n",
    "        # Try varying pulse_gain from 500 to 30000 DAC units\n",
    "\n",
    "        \"pulse_freq\": 250, # [MHz]\n",
    "        # In this program the signal is up and downconverted digitally so you won't see any frequency\n",
    "        # components in the I/Q traces below. But since the signal gain depends on frequency, \n",
    "        # if you lower pulse_freq you will see an increased gain.\n",
    "\n",
    "        \"adc_trig_offset\": 150, # [Clock ticks]\n",
    "        # Try varying adc_trig_offset from 100 to 220 clock ticks\n",
    "\n",
    "        \"soft_avgs\":1\n",
    "        # Try varying soft_avgs from 1 to 200 averages\n",
    "\n",
    "       }\n",
    "\n",
    "\n",
    "DACGain2ADCLevel = dict()\n",
    "\n",
    "\n",
    "for freq in tqdm(range(100, 1000, 5)):\n",
    "\n",
    "    config['pulse_freq'] = freq\n",
    "    DACGain2ADCLevel[freq] = dict()\n",
    "  \n",
    "    for gain in np.arange(10, 30000, 1000):\n",
    "        \n",
    "        config['pulse_gain'] = gain\n",
    "        \n",
    "        prog =LoopbackProgram(soccfg, config)\n",
    "        avgi, avgq = prog.acquire(soc, load_pulses=True, progress=False)\n",
    "      \n",
    "        DACGain2ADCLevel[freq][gain] = round(float(np.abs(avgi[0][0] + 1j*avgq[0][0])), 2)\n",
    " \n",
    " \n",
    "len(list(DACGain2ADCLevel.keys())), len(list(DACGain2ADCLevel[100].keys()))"
   ]
  },
  {
   "cell_type": "code",
   "execution_count": 7,
   "id": "25b75173-444c-4498-bd4b-e0e822516ad6",
   "metadata": {},
   "outputs": [
    {
     "data": {
      "image/png": "[encoded data removed]",
      "text/plain": [
       "<Figure size 432x288 with 2 Axes>"
      ]
     },
     "metadata": {
      "needs_background": "light"
     },
     "output_type": "display_data"
    }
   ],
   "source": [
    "import matplotlib.pyplot as plt\n",
    "import numpy as np\n",
    "# ADCLevel2Power = ADCtable\n",
    "x, y = np.meshgrid(list(DACGain2ADCLevel.keys()), list(DACGain2ADCLevel[100].keys()))\n",
    "\n",
    "z = np.zeros(x.shape)\n",
    "\n",
    "for i in range(x.shape[0]):\n",
    "    for j in range(x.shape[1]):\n",
    "        z[i, j] = DACGain2ADCLevel[x[i, j]][y[i, j]]\n",
    "        \n",
    "fig, ax = plt.subplots()\n",
    "ax.set_title('ADC level (a.u.)')\n",
    "\n",
    "plt.pcolormesh(x, y, z, cmap='RdBu', vmin = np.abs(z).min(), vmax = np.abs(z).max())\n",
    "plt.colorbar()\n",
    "\n",
    "\n",
    "plt.xlabel(\"freq (MHz)\")\n",
    "plt.ylabel(\"gain (a.u.)\")\n",
    "\n",
    "\n",
    "plt.show()"
   ]
  },
  {
   "cell_type": "code",
   "execution_count": 10,
   "id": "f14d4ebd-fca6-4840-8563-20369681e8d8",
   "metadata": {},
   "outputs": [
    {
     "data": {
      "text/plain": [
       "(180, 97)"
      ]
     },
     "execution_count": 10,
     "metadata": {},
     "output_type": "execute_result"
    }
   ],
   "source": [
    "import pickle# check save    \n",
    "with open('ADCLevel2Power_balun-1000_top216-pfb2_adc-0.pkl', 'rb') as fp:\n",
    "    ADCtbl = pickle.load(fp)\n",
    "\n",
    "len(list(ADCtbl.keys())), len(list(ADCtbl[100].keys()))       "
   ]
  },
  {
   "cell_type": "code",
   "execution_count": 29,
   "id": "30a461cd-3941-45b3-a7c7-dffcc295b05e",
   "metadata": {},
   "outputs": [],
   "source": [
    "from bisect import bisect, insort\n",
    "def LinearInterpolation(x1, x2, y1, y2, x):\n",
    "    return (y2 - y1) * ((x - x1) / (x2 - x1)) + y1\n",
    "\n",
    "\n",
    "def ADCLevel2Power(freqs, adcLvls, ADCtbl):\n",
    "    \n",
    "    try:\n",
    "        tblFreqs = list(ADCtbl.keys())\n",
    "        pwrs = []\n",
    "\n",
    "        for i in range(len(freqs)):\n",
    "\n",
    "            freq = freqs[i]\n",
    "            adcLvl = adcLvls[i]\n",
    "\n",
    "            # find upper and lower freq.\n",
    "            idx = bisect(tblFreqs, freq)\n",
    "            tableFreq0 = tblFreqs[idx - 1]\n",
    "            tableFreq1 = tblFreqs[idx]\n",
    "\n",
    "            tblADCLvl0 = list(ADCtbl[tableFreq0].values())\n",
    "            tblADCLvl1 = list(ADCtbl[tableFreq1].values())\n",
    "            tblPwrs0 = list(ADCtbl[tableFreq0].keys())\n",
    "            tblPwrs1 = list(ADCtbl[tableFreq1].keys())\n",
    "\n",
    "\n",
    "            # linear interpolation.\n",
    "            idx = bisect(tblADCLvl0, adcLvl) \n",
    "            p0 = LinearInterpolation(tblADCLvl0[idx-1], tblADCLvl0[idx], \n",
    "                    tblPwrs0[idx - 1], tblPwrs0[idx], adcLvl)\n",
    "\n",
    "            # linear interpolation.\n",
    "            idx = bisect(tblADCLvl1, adcLvl)\n",
    "            p1 = LinearInterpolation(tblADCLvl1[idx-1], tblADCLvl1[idx], \n",
    "                    tblPwrs1[idx - 1], tblPwrs1[idx], adcLvl)\n",
    "\n",
    "            # linear interpolation.\n",
    "            p = LinearInterpolation(tableFreq0, tableFreq1, p0, p1, freq)\n",
    "\n",
    "            pwrs.append(p)\n",
    "        return pwrs\n",
    "    except:\n",
    "        return [None]\n",
    "    \n",
    "\n",
    "\n",
    "DACGain2Power = {}\n",
    "\n",
    "for freq in list(DACGain2ADCLevel.keys()):\n",
    "    \n",
    "    DACGain2Power[freq] = {}\n",
    "    \n",
    "    for gain in list(DACGain2ADCLevel[100].keys()):\n",
    "        \n",
    "        freqs = [freq]\n",
    "        adcLvls = [ DACGain2ADCLevel[freq][gain] ]\n",
    "        \n",
    "        DACGain2Power[freq][gain] = ADCLevel2Power(freqs, adcLvls, ADCtbl)[0]\n",
    "        \n",
    "     "
   ]
  },
  {
   "cell_type": "markdown",
   "id": "c374b650-73c3-401c-b6e5-c00c88a7cac5",
   "metadata": {},
   "source": [
    "## print table"
   ]
  },
  {
   "cell_type": "code",
   "execution_count": 33,
   "id": "0475ed24-246b-4eea-9f32-694a15da4cf6",
   "metadata": {},
   "outputs": [
    {
     "name": "stdout",
     "output_type": "stream",
     "text": [
      "           10    2010    4010    6010    8010   10010   12010   14010   16010   18010   20010   22010   24010   26010   28010\n",
      "     ________________________________________________________________________________________________________________________\n",
      " 100|  -50.18   -25.0  -18.98  -15.44  -12.94  -11.03   -9.42   -8.09   -6.93   -5.92   -5.01   -4.18   -3.41   -2.72   -2.08\n",
      " 125|  -50.18  -24.94  -18.95  -15.43  -12.93  -11.01   -9.41   -8.08   -6.92   -5.93   -5.01   -4.18   -3.41   -2.72   -2.08\n",
      " 150|  -50.18   -25.0  -19.02  -15.49  -12.99  -11.09   -9.49   -8.16   -6.99   -6.01   -5.09   -4.26   -3.49    -2.8   -2.16\n",
      " 175|  -50.18  -25.04  -19.06  -15.54  -13.04  -11.12   -9.52    -8.2   -7.03   -6.03   -5.11   -4.27   -3.51   -2.81   -2.18\n",
      " 200|  -50.18  -25.13  -19.14  -15.61  -13.11   -11.2    -9.6   -8.27    -7.1   -6.11    -5.2   -4.36    -3.6    -2.9   -2.27\n",
      " 225|  -50.18  -25.22  -19.23   -15.7  -13.21  -11.29   -9.69   -8.36   -7.19   -6.17   -5.26   -4.43   -3.66   -2.96   -2.33\n",
      " 250|  -50.18  -25.24  -19.23  -15.71  -13.23   -11.3    -9.7   -8.37   -7.19   -6.19   -5.27   -4.44   -3.67   -2.97   -2.34\n",
      " 275|  -50.18  -25.27  -19.27  -15.75  -13.26  -11.33   -9.74    -8.4   -7.25   -6.23   -5.32   -4.49   -3.72   -3.02   -2.39\n",
      " 300|  -50.18  -25.25  -19.24  -15.71  -13.23   -11.3    -9.7   -8.37   -7.22   -6.22    -5.3   -4.46    -3.7    -3.0   -2.36\n",
      " 325|  -50.18  -25.36  -19.37  -15.83  -13.34  -11.42   -9.83   -8.49   -7.34   -6.35   -5.43    -4.6   -3.83   -3.13    -2.5\n",
      " 350|  -50.19  -25.38   -19.4  -15.87  -13.37  -11.46   -9.86   -8.53   -7.37   -6.37   -5.45   -4.62   -3.85   -3.16   -2.52\n",
      " 375|  -50.18  -25.41  -19.41  -15.88  -13.39  -11.47   -9.87   -8.54   -7.38   -6.38   -5.45   -4.62   -3.85   -3.16   -2.52\n",
      " 400|  -50.18  -25.54  -19.52  -15.99  -13.49  -11.58   -9.98   -8.65   -7.49   -6.48   -5.56   -4.73   -3.96   -3.27   -2.63\n",
      " 425|  -50.18  -25.68  -19.68  -16.15  -13.66  -11.74  -10.15   -8.81   -7.65   -6.63   -5.72   -4.89   -4.12   -3.42   -2.78\n",
      " 450|  -50.18  -25.69  -19.68  -16.16  -13.67  -11.75  -10.15   -8.82   -7.65   -6.64   -5.73    -4.9   -4.13   -3.43    -2.8\n",
      " 475|  -50.18  -25.56  -19.54  -16.01  -13.53   -11.6   -10.0   -8.66   -7.52   -6.51    -5.6   -4.76   -3.99   -3.31   -2.67\n",
      " 500|  -50.18   -25.6  -19.59  -16.07  -13.57  -11.64  -10.04   -8.72   -7.57   -6.56   -5.65   -4.81   -4.04   -3.35   -2.71\n",
      " 525|  -50.18  -25.68  -19.66  -16.13  -13.64  -11.71  -10.11   -8.79   -7.63   -6.62    -5.7   -4.87   -4.11   -3.41   -2.77\n",
      " 550|  -50.18  -25.84  -19.84  -16.31  -13.82  -11.89   -10.3   -8.97   -7.81   -6.78   -5.87   -5.04   -4.27   -3.58   -2.94\n",
      " 575|  -50.18  -25.92  -19.92  -16.39   -13.9  -11.98  -10.38   -9.05   -7.89   -6.86   -5.96   -5.13   -4.36   -3.67   -3.03\n",
      " 600|  -50.18  -25.87  -19.87  -16.34  -13.86  -11.94  -10.34   -9.01   -7.84   -6.81    -5.9   -5.07    -4.3   -3.61   -2.97\n",
      " 625|  -50.18   -25.9  -19.89  -16.37  -13.88  -11.97  -10.38   -9.04   -7.87   -6.85   -5.94   -5.11   -4.34   -3.64    -3.0\n",
      " 650|  -50.18  -26.11   -20.1  -16.57  -14.07  -12.15  -10.55   -9.23   -8.05   -7.04   -6.14   -5.31   -4.54   -3.85   -3.21\n",
      " 675|  -50.18  -26.13  -20.13   -16.6   -14.1  -12.18  -10.59   -9.26   -8.09   -7.07   -6.17   -5.34   -4.57   -3.87   -3.23\n",
      " 700|  -50.18  -25.99  -19.99  -16.45  -13.95  -12.02  -10.43    -9.1   -7.93   -6.92   -6.02   -5.19   -4.42   -3.73   -3.09\n",
      " 725|  -50.18  -26.03  -20.02  -16.49  -13.99  -12.06  -10.47   -9.14   -7.98   -6.96   -6.06   -5.23   -4.45   -3.76   -3.13\n",
      " 750|  -50.17  -26.06  -20.07  -16.53  -14.05  -12.12  -10.52   -9.19   -8.04    -7.0   -6.11   -5.28    -4.5   -3.81   -3.17\n",
      " 775|  -50.18  -26.25  -20.25  -16.72  -14.23   -12.3  -10.71   -9.38   -8.22   -7.19    -6.3   -5.46    -4.7   -3.99   -3.35\n",
      " 800|  -50.17  -26.33  -20.34  -16.82  -14.32   -12.4  -10.81   -9.47   -8.31   -7.28   -6.38   -5.55   -4.79   -4.08   -3.44\n",
      " 825|  -50.18  -26.32  -20.32   -16.8   -14.3  -12.39  -10.79   -9.46   -8.29   -7.27   -6.37   -5.54   -4.77   -4.07   -3.43\n",
      " 850|  -50.17  -26.32  -20.32   -16.8   -14.3  -12.39  -10.79   -9.45   -8.29   -7.26   -6.36   -5.53   -4.77   -4.06   -3.42\n",
      " 875|  -50.17  -26.68  -20.71  -17.19  -14.69  -12.78  -11.18   -9.84   -8.68   -7.66   -6.75   -5.93   -5.17   -4.46   -3.82\n",
      " 900|  -50.18  -26.64  -20.64  -17.11  -14.62  -12.69  -11.09   -9.76   -8.59   -7.57    -6.7   -5.87   -5.11    -4.4   -3.76\n",
      " 925|  -50.18   -26.4  -20.41  -16.89   -14.4  -12.48  -10.89   -9.55   -8.38   -7.36   -6.46   -5.63   -4.87   -4.16   -3.51\n",
      " 950|  -50.18  -26.52  -20.49  -16.98  -14.49  -12.58  -10.97   -9.64   -8.47   -7.45   -6.55   -5.72   -4.96   -4.25    -3.6\n",
      " 975|  -50.18   -26.6  -20.62   -17.1  -14.61   -12.7   -11.1   -9.76    -8.6   -7.57   -6.66   -5.84   -5.08   -4.37   -3.73\n"
     ]
    }
   ],
   "source": [
    " \n",
    "gainidx_step = 2\n",
    "\n",
    "print('     ', end='')\n",
    "for gain in list(DACGain2Power[100].keys())[::gainidx_step]:\n",
    "    s = str(gain)\n",
    "    print(f'{s:>8}', end='')\n",
    "print()\n",
    "\n",
    "print('     ', end='')\n",
    "for gain in list(DACGain2Power[100].keys())[::gainidx_step]:\n",
    "    s = '________'\n",
    "    print(f'{s:>8}', end='')\n",
    "print()\n",
    "\n",
    "for freq in list(DACGain2Power.keys())[::5]:\n",
    "    s = str(freq) + \"|\"\n",
    "    print(f'{s:>5}', end='')\n",
    "    for gain in list(DACGain2Power[100].keys())[::gainidx_step]:\n",
    "     \n",
    "        s = str(round(DACGain2Power[freq][gain], 2))\n",
    "        print(f'{s:>8}', end='')\n",
    "    print()"
   ]
  },
  {
   "cell_type": "markdown",
   "id": "394ad2f3-6efd-4708-b301-cadf214ada83",
   "metadata": {},
   "source": [
    "## save table"
   ]
  },
  {
   "cell_type": "code",
   "execution_count": 34,
   "id": "65d1fc72-2636-42b1-8f44-1dca7a0fd652",
   "metadata": {},
   "outputs": [
    {
     "data": {
      "text/plain": [
       "(180, 30)"
      ]
     },
     "execution_count": 34,
     "metadata": {},
     "output_type": "execute_result"
    }
   ],
   "source": [
    "import pickle\n",
    "\n",
    "with open('DACGain2Power_balun-1000_top216-dac6-adc4.pkl', 'wb') as fp:\n",
    "    pickle.dump(DACGain2Power, fp)\n",
    "\n",
    "    \n",
    "# check save    \n",
    "with open('DACGain2Power_balun-1000_top216-dac6-adc4.pkl', 'rb') as fp:\n",
    "    dactbl = pickle.load(fp)\n",
    "\n",
    "len(list(dactbl.keys())), len(list(dactbl[100].keys())) "
   ]
  }
 ],
 "metadata": {
  "kernelspec": {
   "display_name": "Python 3",
   "language": "python",
   "name": "python3"
  },
  "language_info": {
   "codemirror_mode": {
    "name": "ipython",
    "version": 3
   },
   "file_extension": ".py",
   "mimetype": "text/x-python",
   "name": "python",
   "nbconvert_exporter": "python",
   "pygments_lexer": "ipython3",
   "version": "3.8.2"
  }
 },
 "nbformat": 4,
 "nbformat_minor": 5
}
